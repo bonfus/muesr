{
 "cells": [
  {
   "cell_type": "markdown",
   "metadata": {},
   "source": [
    "# CoF<sub>2</sub>\n",
    "In this example we show how to calculate the field at the known muon site in the Néel antiferromagnetic insulator CoF<sub>2</sub>"
   ]
  },
  {
   "cell_type": "code",
   "execution_count": null,
   "metadata": {},
   "outputs": [],
   "source": [
    "%pip install matplotlib\n",
    "import numpy as np\n",
    "from muesr.engines.clfc import locfield # Does the sum and returns the results\n",
    "from muesr.core import Sample           # The object that contains the information\n",
    "from muesr.engines.clfc import find_largest_sphere # A sphere centered at the muon is the correct summation domain\n",
    "from muesr.i_o import load_cif          # To load crystal structure information from a cif file\n",
    "from muesr.utilities import mago_add, show_structure # To define the magnetic structure and show it\n",
    "import matplotlib.pyplot as P           \n",
    "np.set_printoptions(suppress=True,precision=4)       # to set displayed decimals in results"
   ]
  },
  {
   "cell_type": "markdown",
   "metadata": {},
   "source": [
    "You can find all relevant MuSR information of this compound \n",
    "in <a href=\"https://doi.org/10.1103/PhysRevB.30.186\">Phys. Rev. B 30 186</a></center>.\n",
    "\n",
    "Now define a sample object (call it cof for short) and load the lattice structure from a cif file \n",
    "(present in the muesr distribution). Finally add the known muons site in fractional cell coordinates \n",
    "(it sits in the middle of the  a axis)."
   ]
  },
  {
   "cell_type": "code",
   "execution_count": null,
   "metadata": {},
   "outputs": [],
   "source": [
    "cof = Sample()\n",
    "load_cif(cof,\"./CoF2.cif\")\n",
    "cof.add_muon([0.5,0.0,0.0]) # Checked experimentally by single crystal studies in external field"
   ]
  },
  {
   "cell_type": "markdown",
   "metadata": {},
   "source": [
    "Here is the magnetic structure of CoF<sub>2</sub> (from [PRB 30 186](https://doi.org/10.1103/PhysRevB.30.186))\n",
    "\n",
    "![title](CoF2.png)\n",
    "\n",
    "Now define a new magnetic structure (you can have more than one). \n",
    "Define its propagation vector <i><b>k</b></i>, equal to the c lattice vector, \n",
    "(but the a, or the b lattice vector would equally do, and k=0 as well)\n",
    "\n",
    "The next step will be to input one complex Fourier component per atom, by the command cof.mm.fc \n",
    "You must know the order in which the atoms are presented (mago_add could be useful here, check)\n",
    "Here the situation is clarified by the code comments below."
   ]
  },
  {
   "cell_type": "code",
   "execution_count": null,
   "metadata": {},
   "outputs": [],
   "source": [
    "# magnetic moment of 2.6 muB from https:doi.//org/10.1103/PhysRevB.87.121108  https://doi.org/10.1103/PhysRevB.69.014417\n",
    "cof.new_mm()     \n",
    "cof.mm.k=np.array([0.0,0.0,1.0])\n",
    "# according to CoF2.cif (setting with a,b equal, c shorter, type cif to check)\n",
    "# H-M P4_2/mnm group 136, six atoms in the cell, in this order\n",
    "# Co at 0.00000 0.00000 0.00000 (2b site)  \n",
    "# the symmetry replica is generated at 0.5000 0.5000 0.5000\n",
    "# http://www.cryst.ehu.es/cgi-bin/cryst/programs/nph-normsets?&norgens=&gnum=136 \n",
    "# F at 0.30600 0.30600 0.00000  (4f site)\n",
    "# the symmetry replicas are generated at 1--x 1-x 0, 0.5+x 0.5-x, 0.5, 0.5-x,0.5+x, 0.5\n",
    "cof.mm.fc= np.array([[0.0+0.j, 0.0+0.j, 2.6+0.j],[0.0+0.j, 0.0+0.j, -2.6+0.j], # the two Co with opposite m\n",
    "                    [0.0+0.j, 0.0+0.j, 0.0+0.j],[0.0+0.j, 0.0+0.j, 0.0+0.j],   # F\n",
    "                    [0.0+0.j, 0.0+0.j, 0.0+0.j],[0.0+0.j, 0.0+0.j, 0.0+0.j]])  # F"
   ]
  },
  {
   "cell_type": "markdown",
   "metadata": {},
   "source": [
    "Let us see if we did that right: invoke VESTA \n",
    "(you must have it installed and its location known to muesr, see Installation). And remember to kill VESTA to proceed. "
   ]
  },
  {
   "cell_type": "code",
   "execution_count": null,
   "metadata": {},
   "outputs": [],
   "source": [
    "show_structure(cof,visualizationTool='V') # show_structure(cof,supercell=[1,1,2],visualizationTool='V')"
   ]
  },
  {
   "cell_type": "markdown",
   "metadata": {},
   "source": [
    "CoF<sub>2</sub> does not have a contact hyperfine term, by symmetry, nor a macroscopic magnetization to produce a demagnetizing field, \n",
    "being an antiferromagnet. We can just proceed to calculate the dipolar sums. \n",
    "Let us do that over a pretty large spherical summation domain."
   ]
  },
  {
   "cell_type": "code",
   "execution_count": null,
   "metadata": {},
   "outputs": [],
   "source": [
    "n=100\n",
    "radius=find_largest_sphere(cof,[n,n,n]) \n",
    "r=locfield(cof, 's', [n, n, n] ,radius)\n",
    "print('Compare Bdip = {:.4f} T with the experimental value of Bexp = 0.265 T'.format(np.linalg.norm(r[0].D,axis=0)))"
   ]
  },
  {
   "cell_type": "markdown",
   "metadata": {},
   "source": [
    "The small 1.4% difference may be due to the muon pushing slightly ot the nearest neighbor Co ions. \n",
    "Now let us check the convergence and plot it"
   ]
  },
  {
   "cell_type": "code",
   "execution_count": null,
   "metadata": {},
   "outputs": [],
   "source": [
    "npoints = 11\n",
    "n = np.logspace(0.53,2,npoints,dtype=int)\n",
    "k = -1\n",
    "B_dip = np.zeros(npoints)\n",
    "R = np.zeros(npoints)\n",
    "for m in n:\n",
    "    k += 1\n",
    "    radius=find_largest_sphere(cof,[m,m,m])\n",
    "    r=locfield(cof, 's', [m, m, m] ,radius) #\n",
    "    R[k] = radius\n",
    "    B_dip[k] = np.linalg.norm(r[0].D,axis=0)\n",
    "\n",
    "fig,ax = P.subplots()\n",
    "\n",
    "ax.plot(R,B_dip,'bo',label='sum')\n",
    "ax.plot(R,R-R+0.265,'b--',label='exp')\n",
    "ax1 = ax.twinx()\n",
    "ax.set_xlabel('R')\n",
    "ax.set_ylabel(r'$B_d$  [T]')\n",
    "ax1.plot(R,n,'rd')\n",
    "ax1.set_ylabel('m (sites per cube edge)')\n",
    "ax.legend(loc=9)\n",
    "P.show()"
   ]
  },
  {
   "cell_type": "markdown",
   "metadata": {},
   "source": [
    "Compare with \n",
    "\n",
    "![title](examples_CoF2_CoF2_11_0.png)"
   ]
  },
  {
   "cell_type": "code",
   "execution_count": null,
   "metadata": {},
   "outputs": [],
   "source": []
  }
 ],
 "metadata": {
  "kernelspec": {
   "display_name": "Python 3 (ipykernel)",
   "language": "python",
   "name": "python3"
  },
  "language_info": {
   "codemirror_mode": {
    "name": "ipython",
    "version": 3
   },
   "file_extension": ".py",
   "mimetype": "text/x-python",
   "name": "python",
   "nbconvert_exporter": "python",
   "pygments_lexer": "ipython3",
   "version": "3.13.5"
  }
 },
 "nbformat": 4,
 "nbformat_minor": 2
}
