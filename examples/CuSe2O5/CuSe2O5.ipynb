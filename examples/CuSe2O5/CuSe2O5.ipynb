{
 "cells": [
  {
   "cell_type": "markdown",
   "metadata": {},
   "source": [
    "# CuSe<sub>2</sub>O<sub>5</sub>\n",
    "This example reproduces the results of PhysRevB 87 104413 and shows how to use mago_add"
   ]
  },
  {
   "cell_type": "code",
   "execution_count": 1,
   "metadata": {},
   "outputs": [
    {
     "name": "stdout",
     "output_type": "stream",
     "text": [
      "\t \u001b[93mSpg Library not loaded\u001b[0m\n"
     ]
    }
   ],
   "source": [
    "import numpy as np\n",
    "from muesr.i_o import load_cif\n",
    "from muesr.engines.clfc import locfield\n",
    "from muesr.core import Sample\n",
    "from muesr.utilities import mago_add # illustrate the non-interactive use of mago_add\n",
    "from muesr.utilities import show_structure"
   ]
  },
  {
   "cell_type": "markdown",
   "metadata": {},
   "source": [
    "The following method generates a rotation matrix"
   ]
  },
  {
   "cell_type": "code",
   "execution_count": 2,
   "metadata": {},
   "outputs": [],
   "source": [
    "def rotation_matrix(axis, theta):\n",
    "    \"\"\"\n",
    "    Return the rotation matrix associated with counterclockwise rotation about\n",
    "    the given axis by theta radians.\n",
    "    \"\"\"\n",
    "    axis = np.asarray(axis)\n",
    "    theta = np.asarray(theta)\n",
    "    naxis = axis/np.linalg.norm(axis)\n",
    "    a = np.cos(theta/2.0)\n",
    "    b, c, d = -naxis*np.sin(theta/2.0)\n",
    "    aa, bb, cc, dd = a*a, b*b, c*c, d*d\n",
    "    bc, ad, ac, ab, bd, cd = b*c, a*d, a*c, a*b, b*d, c*d\n",
    "    return np.array([[aa+bb-cc-dd, 2*(bc+ad), 2*(bd-ac)],\n",
    "                     [2*(bc-ad), aa+cc-bb-dd, 2*(cd+ab)],\n",
    "                     [2*(bd+ac), 2*(cd-ab), aa+dd-bb-cc]])"
   ]
  },
  {
   "cell_type": "markdown",
   "metadata": {},
   "source": [
    "Define the CuSe<sub>2</sub>O<sub>5</sub> object, load the structure from the cif file and visualize it\n",
    "for a first check. <br/>Remember to close XCrysDen or VESTA."
   ]
  },
  {
   "cell_type": "code",
   "execution_count": 3,
   "metadata": {},
   "outputs": [
    {
     "data": {
      "text/plain": [
       "True"
      ]
     },
     "execution_count": 3,
     "metadata": {},
     "output_type": "execute_result"
    }
   ],
   "source": [
    "s = Sample()\n",
    "load_cif(s,'./cif/CuSe2O5.cif')\n",
    "show_structure(s) # show_structure(s,visualizationTool='V') if you want VESTA"
   ]
  },
  {
   "cell_type": "markdown",
   "metadata": {},
   "source": [
    "Cu atoms are 1,2,3,4.  <br/>\n",
    "According to Phys Rev B 87 104413 Cu moments in Bohr magnetons are:<br/>\n",
    "|  0.13  0.50 0.00 |<br/>\n",
    "|  0.13 -0.50 0.00 |<br/>\n",
    "| -0.13 -0.50 0.00 |<br/>\n",
    "| -0.13  0.50 0.00 |<br/>\n",
    "(Copy-Paste in mago_add below)"
   ]
  },
  {
   "cell_type": "code",
   "execution_count": 4,
   "metadata": {},
   "outputs": [],
   "source": [
    "kvalue = np.array([0.,0.,0.])"
   ]
  },
  {
   "cell_type": "markdown",
   "metadata": {},
   "source": [
    "if kvalue is the propagation vector (0,0,0 amd 1,0,0 are the same!).<br/>\n",
    "Thus the magnetic structure can be added to s with mago_add. <br/>\n",
    "A prompt will appear (also under Jupyter) asking first for the name of the magnetic ion [Cu]\n",
    "and then for the Fourier components "
   ]
  },
  {
   "cell_type": "code",
   "execution_count": 5,
   "metadata": {},
   "outputs": [
    {
     "name": "stdout",
     "output_type": "stream",
     "text": [
      "\t Fourier components in Bohr magnetons and lattice coordinates.\n",
      "\t Which atom? (enter for all): Cu\n",
      "\t Lattice vectors:\n",
      "\t \u001b[92m  a   12.254000000000000    0.000000000000000    0.000000000000000\u001b[0m\n",
      "\t \u001b[92m  b    0.000000000000000    4.858000000000000    0.000000000000000\u001b[0m\n",
      "\t \u001b[92m  c   -2.813659756482887    0.000000000000001    7.446134485405744\u001b[0m\n",
      "\t Atomic positions (fractional):\n",
      "\t \u001b[92m    1 Cu  0.00000000000000  0.00000000000000  0.00000000000000  63.546\u001b[0m\n",
      "\t \u001b[92m    2 Cu  0.00000000000000  0.00000000000000  0.50000000000000  63.546\u001b[0m\n",
      "\t \u001b[92m    3 Cu  0.50000000000000  0.50000000000000  0.00000000000000  63.546\u001b[0m\n",
      "\t \u001b[92m    4 Cu  0.50000000000000  0.50000000000000  0.50000000000000  63.546\u001b[0m\n",
      "\t FC for atom 1 Cu (3 real, [3 imag]):  0.13 0.50 0.00\n",
      "\t FC for atom 2 Cu (3 real, [3 imag]):  0.13 -0.50 0.00\n",
      "\t FC for atom 3 Cu (3 real, [3 imag]):  -0.13 -0.50 0.00\n",
      "\t FC for atom 4 Cu (3 real, [3 imag]):  -0.13 0.50 0.00\n"
     ]
    },
    {
     "data": {
      "text/plain": [
       "True"
      ]
     },
     "execution_count": 5,
     "metadata": {},
     "output_type": "execute_result"
    }
   ],
   "source": [
    "mago_add(s,coordinates='b-l', kvalue=kvalue) # using Bohr magnetons and Cartesian coordinates"
   ]
  },
  {
   "cell_type": "markdown",
   "metadata": {},
   "source": [
    "Let''s add four tentative muon sites and compute the result in the a*bc coordinate system \n",
    "by applying a rotation of 110.7-90 = -20.7 degrees (read the paper) "
   ]
  },
  {
   "cell_type": "code",
   "execution_count": 6,
   "metadata": {},
   "outputs": [
    {
     "data": {
      "text/plain": [
       "True"
      ]
     },
     "execution_count": 6,
     "metadata": {},
     "output_type": "execute_result"
    }
   ],
   "source": [
    "s.add_muon([0.19,0.01,0.23])\n",
    "s.add_muon([0.33,0.4,0.06])\n",
    "s.add_muon([0.32,0.44,0.02])\n",
    "s.add_muon([0.35,0.49,0.32])\n",
    "\n",
    "show_structure(s,visualizationTool='V')   # check magnetic structure"
   ]
  },
  {
   "cell_type": "code",
   "execution_count": 7,
   "metadata": {
    "scrolled": true
   },
   "outputs": [
    {
     "name": "stdout",
     "output_type": "stream",
     "text": [
      "In the A*bc coordinate system the fields are:\n",
      "Site  0 , B =  [ 0.00572451 -0.01632982  0.00716516]  T, |B| =  0.018728922602301346  T\n",
      "Site  1 , B =  [-0.0193075   0.01199599  0.02114259]  T, |B| =  0.031043394671416997  T\n",
      "Site  2 , B =  [-0.02136884  0.01998901  0.01386566]  T, |B| =  0.03237969132689694  T\n",
      "Site  3 , B =  [-0.00625175 -0.05112271 -0.01505342]  T, |B| =  0.0536583755500242  T\n"
     ]
    }
   ],
   "source": [
    "results = locfield(s,'s',[50,50,50],100)\n",
    "print(\"In the A*bc coordinate system the fields are:\")\n",
    "for i, f in enumerate(results):\n",
    "    # rotate in a*bc coordinate system\n",
    "    Bv = np.dot(f.D,rotation_matrix([0,1,0],-np.pi*(20.7/180)))\n",
    "    B = np.sqrt(np.dot(f.D,f.D))\n",
    "    print(\"Site \",i,\", B = \", Bv, \" T, |B| = \",B,\" T\")"
   ]
  },
  {
   "cell_type": "markdown",
   "metadata": {},
   "source": [
    "Compare with figure 6 from PRB 87 104413 \n",
    "![title](CuSe2O5.Fig6.png)"
   ]
  },
  {
   "cell_type": "code",
   "execution_count": null,
   "metadata": {},
   "outputs": [],
   "source": []
  }
 ],
 "metadata": {
  "kernelspec": {
   "display_name": "Python 2",
   "language": "python",
   "name": "python2"
  },
  "language_info": {
   "codemirror_mode": {
    "name": "ipython",
    "version": 3
   },
   "file_extension": ".py",
   "mimetype": "text/x-python",
   "name": "python",
   "nbconvert_exporter": "python",
   "pygments_lexer": "ipython3",
   "version": "3.5.2"
  }
 },
 "nbformat": 4,
 "nbformat_minor": 2
}
