{
 "cells": [
  {
   "cell_type": "markdown",
   "metadata": {},
   "source": [
    "# La<sub>2</sub>CuO<sub>4</sub>\n",
    "Another antiferromagnetic insulator with a slightly more complicated unit cell"
   ]
  },
  {
   "cell_type": "code",
   "execution_count": 1,
   "metadata": {},
   "outputs": [
    {
     "name": "stdout",
     "output_type": "stream",
     "text": [
      "\t \u001b[93mSpg Library not loaded\u001b[0m\n"
     ]
    }
   ],
   "source": [
    "import numpy as np\n",
    "from muesr.engines.clfc import locfield\n",
    "from muesr.core import Sample\n",
    "from muesr.engines.clfc import find_largest_sphere\n",
    "from muesr.i_o import load_cif\n",
    "from muesr.utilities import mago_add, show_structure # mago_add is a helper to add magnetic structures\n",
    "np.set_printoptions(suppress=True,precision=4)"
   ]
  },
  {
   "cell_type": "markdown",
   "metadata": {},
   "source": [
    "Start again by creating a sample, loading a cif into it and adding a tentative muon site"
   ]
  },
  {
   "cell_type": "code",
   "execution_count": 2,
   "metadata": {},
   "outputs": [],
   "source": [
    "la2cuo4 = Sample()\n",
    "load_cif(la2cuo4,\"/home/roberto.derenzi/tex/mytalks/ISIS-19-03-2018/dipolar_examples/La2CuO4_Cmca_new.cif\")\n",
    "\n",
    "la2cuo4.add_muon([-0.14, 0.1770, -0.1740]) # 1.07 A from apical O"
   ]
  },
  {
   "cell_type": "markdown",
   "metadata": {},
   "source": [
    "Cmca group 64, 28 atoms: 8 non magnetic La, 4 magnetic Cu, 16 non magnetic O.\n",
    "\n",
    "Magnetic structure from Vaknin et al. PRL 58 2802,\n",
    "Cu moment is 0.6 Bohr magnetons, i.e. 1 &micro;<sub>B</sub> with quantum S=1/2 spin reduction in 2D, see e.g. T.Ishikawa and T.Oguchi, Prog. Th. Phys. 54 1282 (1975)\n",
    "\n",
    "First do it the long way, as in the CoF<sub>2</sub> case"
   ]
  },
  {
   "cell_type": "code",
   "execution_count": 3,
   "metadata": {},
   "outputs": [],
   "source": [
    "la2cuo4.new_mm() # magnetic structure from Vaknin et al PRL 58 2802\n",
    "# insert the k vector, in a pseudo-ferromagnetic cell, with a base \n",
    "la2cuo4.mm.k=np.array([0.0,0.0,0.0])\n",
    "# insert the m_nu,k fourier components for each atom according to CIF \n",
    "la2cuo4.mm.fc= np.array([[0.0+0.j, 0.0+0.j, 0.0+0.j],[0.0+0.j, 0.0+0.j, 0.0+0.j], \n",
    "                    [0.0+0.j, 0.0+0.j, 0.0+0.j],[0.0+0.j, 0.0+0.j, 0.0+0.j],\n",
    "                    [0.0+0.j, 0.0+0.j, 0.0+0.j],[0.0+0.j, 0.0+0.j, 0.0+0.j],\n",
    "                    [0.0+0.j, 0.0+0.j, 0.0+0.j],[0.0+0.j, 0.0+0.j, 0.0+0.j],\n",
    "                    [0.0+0.j, 0.0+0.j, 0.6+0.j],[0.0+0.j, 0.0+0.j, 0.6+0.j], # magnetic Cu\n",
    "                    [0.0+0.j, 0.0+0.j, -0.6+0.j],[0.0+0.j, 0.0+0.j, -0.6+0.j], # magnetic Cu\n",
    "                    [0.0+0.j, 0.0+0.j, 0.0+0.j],[0.0+0.j, 0.0+0.j, 0.0+0.j],\n",
    "                    [0.0+0.j, 0.0+0.j, 0.0+0.j],[0.0+0.j, 0.0+0.j, 0.0+0.j],\n",
    "                    [0.0+0.j, 0.0+0.j, 0.0+0.j],[0.0+0.j, 0.0+0.j, 0.0+0.j],\n",
    "                    [0.0+0.j, 0.0+0.j, 0.0+0.j],[0.0+0.j, 0.0+0.j, 0.0+0.j],\n",
    "                    [0.0+0.j, 0.0+0.j, 0.0+0.j],[0.0+0.j, 0.0+0.j, 0.0+0.j],\n",
    "                    [0.0+0.j, 0.0+0.j, 0.0+0.j],[0.0+0.j, 0.0+0.j, 0.0+0.j],\n",
    "                    [0.0+0.j, 0.0+0.j, 0.0+0.j],[0.0+0.j, 0.0+0.j, 0.0+0.j], \n",
    "                    [0.0+0.j, 0.0+0.j, 0.0+0.j],[0.0+0.j, 0.0+0.j, 0.0+0.j]])\n",
    "la2cuo4.mm.desc = 'stripe along b with k = 0'"
   ]
  },
  {
   "cell_type": "markdown",
   "metadata": {},
   "source": [
    "<center> <b> La<sub>2</sub>CuO<sub>4</sub> </b> Cmca setting according to Vaknin PRL 58 2802</center>\n",
    "![title](La2CuO4_Cmca-structure.png)"
   ]
  },
  {
   "cell_type": "code",
   "execution_count": 4,
   "metadata": {},
   "outputs": [
    {
     "data": {
      "text/plain": [
       "True"
      ]
     },
     "execution_count": 4,
     "metadata": {},
     "output_type": "execute_result"
    }
   ],
   "source": [
    "show_structure(la2cuo4,visualizationTool='V')"
   ]
  },
  {
   "cell_type": "code",
   "execution_count": 8,
   "metadata": {},
   "outputs": [
    {
     "name": "stdout",
     "output_type": "stream",
     "text": [
      "vector B_dip components = [ 0.0035 -0.039  -0.0131] T, B_dip = 0.04128 T\n"
     ]
    }
   ],
   "source": [
    "radius=find_largest_sphere(la2cuo4,[100, 100, 100]) \n",
    "r=locfield(la2cuo4, 's', [100, 100, 100] ,radius) \n",
    "print('vector B_dip components = {} T, B_dip = {:.4} T'.format(r[0].D,np.linalg.norm(r[0].D,axis=0)))\n",
    "# save_sample(la2cuo4,'La2CuO4-stripe-as-fm.yaml')"
   ]
  },
  {
   "cell_type": "markdown",
   "metadata": {},
   "source": [
    "compare the above result with the experimental value B<sub>exp</sub> = 0.041 T from <a href=\"https://www.sciencedirect.com/science/article/pii/0375960187903823\"> Budnick et al., Phys Lett A 124, 103 </a>\n"
   ]
  }
 ],
 "metadata": {
  "kernelspec": {
   "display_name": "Python 2",
   "language": "python",
   "name": "python2"
  },
  "language_info": {
   "codemirror_mode": {
    "name": "ipython",
    "version": 3
   },
   "file_extension": ".py",
   "mimetype": "text/x-python",
   "name": "python",
   "nbconvert_exporter": "python",
   "pygments_lexer": "ipython3",
   "version": "3.5.2"
  }
 },
 "nbformat": 4,
 "nbformat_minor": 2
}
